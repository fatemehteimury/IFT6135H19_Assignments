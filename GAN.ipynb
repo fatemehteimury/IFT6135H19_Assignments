{
  "nbformat": 4,
  "nbformat_minor": 0,
  "metadata": {
    "colab": {
      "name": "GAN.ipynb",
      "version": "0.3.2",
      "provenance": [],
      "collapsed_sections": [],
      "include_colab_link": true
    },
    "kernelspec": {
      "name": "python3",
      "display_name": "Python 3"
    },
    "accelerator": "GPU"
  },
  "cells": [
    {
      "cell_type": "markdown",
      "metadata": {
        "id": "view-in-github",
        "colab_type": "text"
      },
      "source": [
        "<a href=\"https://colab.research.google.com/github/fatemehteimury/IFT6135H19_Assignments/blob/master/GAN.ipynb\" target=\"_parent\"><img src=\"https://colab.research.google.com/assets/colab-badge.svg\" alt=\"Open In Colab\"/></a>"
      ]
    },
    {
      "metadata": {
        "id": "jeJR5MANdymy",
        "colab_type": "code",
        "colab": {}
      },
      "cell_type": "code",
      "source": [
        "import numpy as np\n",
        "import random\n",
        "\n",
        "def distribution0(batch_size=512):\n",
        "    while True:\n",
        "        yield(np.random.uniform(0, 1, (batch_size, 1)))\n",
        "\n",
        "\n",
        "def distribution1(x, batch_size=512):\n",
        "    # Distribution defined as (x, U(0,1)). Can be used for question 3\n",
        "    while True:\n",
        "        yield(np.array([(x, random.uniform(0, 1)) for _ in range(batch_size)]))\n",
        "\n",
        "\n",
        "def distribution2(batch_size=512):\n",
        "    # High dimension uniform distribution\n",
        "    while True:\n",
        "        yield(np.random.uniform(0, 1, (batch_size, 2)))\n",
        "\n",
        "\n",
        "def distribution3(batch_size=512):\n",
        "    # 1D gaussian distribution\n",
        "    while True:\n",
        "        yield(np.random.normal(0, 1, (batch_size, 1)))\n",
        "\n",
        "\n",
        "e = lambda x: np.exp(x)\n",
        "tanh = lambda x: (e(x) - e(-x)) / (e(x)+e(-x))\n",
        "def distribution4(batch_size=1):\n",
        "    # arbitrary sampler\n",
        "    f = lambda x: tanh(x*2+1) + x*0.75\n",
        "    while True:\n",
        "        yield(f(np.random.normal(0, 1, (batch_size, 1))))"
      ],
      "execution_count": 0,
      "outputs": []
    },
    {
      "metadata": {
        "id": "xHTisA2n-5oM",
        "colab_type": "code",
        "colab": {}
      },
      "cell_type": "code",
      "source": [
        "import torch\n",
        "import torchvision\n",
        "import torchvision.transforms as transforms\n",
        "import torch.nn as nn\n",
        "import torch.nn.functional as F\n",
        "import torch.optim as optim"
      ],
      "execution_count": 0,
      "outputs": []
    },
    {
      "metadata": {
        "id": "BISAjhcjQYko",
        "colab_type": "text"
      },
      "cell_type": "markdown",
      "source": [
        "**part1-1  implement JSD**\n",
        "\n",
        "**part 1-3  plot JSD for different value of theta**"
      ]
    },
    {
      "metadata": {
        "id": "6pW2s94hBh5j",
        "colab_type": "code",
        "colab": {}
      },
      "cell_type": "code",
      "source": [
        "def JSD(Dx, Dy):\n",
        "    \"\"\"\n",
        "    input:Dx,Dy\n",
        "    output:Jensen-Shannon Divergence between 2 distribution Dx, Dy \n",
        "\n",
        "    \"\"\"\n",
        "    jsd = torch.log(torch.tensor(2.)) + (1/2)*torch.mean(torch.log(Dx)) + (1/2)*torch.mean(torch.log(1-Dy))\n",
        "    return -jsd\n",
        "\n",
        "def init_weights(m):\n",
        "    if type(m) == nn.Linear:\n",
        "        torch.nn.init.kaiming_normal_(m.weight)\n",
        "        m.bias.data.fill_(0.01)\n",
        "\n",
        "class Net(nn.Module):\n",
        "    def __init__(self):\n",
        "        super(Net, self).__init__()\n",
        "        self.hidden_layer = nn.Linear(2, 32)\n",
        "        self.output_layer = nn.Linear(32, 1)\n",
        "        \n",
        "    def forward(self, x):\n",
        "        x = F.relu(self.hidden_layer(x))\n",
        "        x = F.sigmoid(self.output_layer(x))\n",
        "        return x"
      ],
      "execution_count": 0,
      "outputs": []
    },
    {
      "metadata": {
        "id": "MZ_sl5phRUir",
        "colab_type": "code",
        "outputId": "a0dfaf84-f4c8-4603-df11-3dd87d0df3c1",
        "colab": {
          "base_uri": "https://localhost:8080/",
          "height": 416
        }
      },
      "cell_type": "code",
      "source": [
        "loss_JSD = []\n",
        "for j in range(-10, 11):\n",
        "    net = Net()\n",
        "    net.apply(init_weights)\n",
        "    optimizer = optim.Adam(net.parameters(), lr=0.001)\n",
        "    for i in range(5000):\n",
        "        x = torch.tensor(next(iter(distribution1(0, batch_size=512))), dtype=torch.float32)\n",
        "        y = torch.tensor(next(iter(distribution1(j/10, batch_size=512))), dtype=torch.float32)\n",
        "\n",
        "        Dx = net(x)\n",
        "        Dy = net(y)\n",
        "\n",
        "        loss = JSD(Dx, Dy)\n",
        "\n",
        "        loss.backward()\n",
        "        optimizer.step()\n",
        "        optimizer.zero_grad()\n",
        "    loss_JSD.append(-loss.item())\n",
        "    print('loss:',-loss.item())"
      ],
      "execution_count": 0,
      "outputs": [
        {
          "output_type": "stream",
          "text": [
            "/usr/local/lib/python3.6/dist-packages/torch/nn/functional.py:1332: UserWarning: nn.functional.sigmoid is deprecated. Use torch.sigmoid instead.\n",
            "  warnings.warn(\"nn.functional.sigmoid is deprecated. Use torch.sigmoid instead.\")\n"
          ],
          "name": "stderr"
        },
        {
          "output_type": "stream",
          "text": [
            "loss: 0.6930985450744629\n",
            "loss: 0.6930947303771973\n",
            "loss: 0.6930840015411377\n",
            "loss: 0.6930782198905945\n",
            "loss: 0.6928834319114685\n",
            "loss: 0.6930472254753113\n",
            "loss: 0.6930297613143921\n",
            "loss: 0.692892849445343\n",
            "loss: 0.6926737427711487\n",
            "loss: 0.6916040778160095\n",
            "loss: 2.9385089874267578e-05\n",
            "loss: 0.691507875919342\n",
            "loss: 0.6926175355911255\n",
            "loss: 0.6929374933242798\n",
            "loss: 0.6929576992988586\n",
            "loss: 0.69301438331604\n",
            "loss: 0.6930230259895325\n",
            "loss: 0.6930586099624634\n",
            "loss: 0.6931124925613403\n",
            "loss: 0.6930584907531738\n",
            "loss: 0.6930828094482422\n"
          ],
          "name": "stdout"
        }
      ]
    },
    {
      "metadata": {
        "id": "ClUw6_ELuhsA",
        "colab_type": "code",
        "outputId": "059cb852-4c72-4bb0-9fdb-36914c7c427a",
        "colab": {
          "base_uri": "https://localhost:8080/",
          "height": 269
        }
      },
      "cell_type": "code",
      "source": [
        "import matplotlib.pyplot as plt\n",
        "plt.plot([j/10 for j in range(-10,11)],loss_JSD, 'ro')\n",
        "plt.axis([-1.1, 1.1, -0.1, 1])\n",
        "plt.show()"
      ],
      "execution_count": 0,
      "outputs": [
        {
          "output_type": "display_data",
          "data": {
            "image/png": "[encoded data removed]",
            "text/plain": [
              "<Figure size 432x288 with 1 Axes>"
            ]
          },
          "metadata": {
            "tags": []
          }
        }
      ]
    },
    {
      "metadata": {
        "id": "BmFNTkccQdkC",
        "colab_type": "text"
      },
      "cell_type": "markdown",
      "source": [
        "**part1-2  implement WD**\n",
        "\n",
        "**part 1-3  plot WD for different theta**"
      ]
    },
    {
      "metadata": {
        "id": "soviWtaSQNGC",
        "colab_type": "code",
        "colab": {}
      },
      "cell_type": "code",
      "source": [
        "import torch.nn as nn\n",
        "import torch.nn.functional as F\n",
        "\n",
        "def WD(Dx, Dy, dz, lambda_=10):\n",
        "  \"\"\"\n",
        "  Input: Dx,Dy,lambda = 10\n",
        "  Output:asserstein Distance of inputs\n",
        "  The main idea for this question is to use gradient penalty over Z = a*x +(1-a)y\n",
        "  \"\"\"\n",
        "  wd = torch.mean(Dx) - torch.mean(Dy) - lambda_*torch.mean((torch.norm(dz, dim=1)-1)**2)\n",
        "  return -wd\n",
        "\n",
        "def init_weights(m):\n",
        "    if type(m) == nn.Linear:\n",
        "        torch.nn.init.kaiming_normal_(m.weight)\n",
        "        m.bias.data.fill_(0.01)\n",
        "\n",
        "class Net(nn.Module):\n",
        "    def __init__(self):\n",
        "        super(Net, self).__init__()\n",
        "        self.hidden_layer = nn.Linear(2, 32)\n",
        "        self.output_layer = nn.Linear(32, 1)\n",
        "        \n",
        "    def forward(self, x):\n",
        "        x = F.relu(self.hidden_layer(x))\n",
        "        x = self.output_layer(x)\n",
        "        return x"
      ],
      "execution_count": 0,
      "outputs": []
    },
    {
      "metadata": {
        "id": "41tohhCHxTV1",
        "colab_type": "code",
        "outputId": "0f74f1bf-5793-4200-b98e-4c41a9a176e5",
        "colab": {
          "base_uri": "https://localhost:8080/",
          "height": 381
        }
      },
      "cell_type": "code",
      "source": [
        "loss_WD = []\n",
        "for j in range(-10, 11):\n",
        "    net = Net()\n",
        "    net.apply(init_weights)\n",
        "    optimizer = optim.Adam(net.parameters(), lr=0.001)\n",
        "    for i in range(5000):\n",
        "        x = torch.tensor(next(iter(distribution1(0, batch_size=512))), dtype=torch.float32)\n",
        "        y = torch.tensor(next(iter(distribution1(j/10, batch_size=512))), dtype=torch.float32)\n",
        "        a = torch.tensor(next(iter(distribution0(batch_size=512))), dtype=torch.float32)\n",
        "        \n",
        "        z = a*x + (1-a)*y\n",
        "        z.retain_grad()\n",
        "        z.requires_grad = True\n",
        "        \n",
        "        Dz = net(z)\n",
        "        Dx = net(x)\n",
        "        Dy = net(y)\n",
        "        \n",
        "        dz = torch.autograd.grad(Dz, z, grad_outputs=torch.ones_like(Dz), create_graph=True, retain_graph=True)[0]\n",
        "        loss = WD(Dx, Dy, dz)\n",
        "\n",
        "        loss.backward()\n",
        "        optimizer.step()\n",
        "        optimizer.zero_grad()\n",
        "    loss_WD.append(-loss.item())\n",
        "    print('loss:',-loss.item())"
      ],
      "execution_count": 0,
      "outputs": [
        {
          "output_type": "stream",
          "text": [
            "loss: 1.0256867408752441\n",
            "loss: 0.9206493496894836\n",
            "loss: 0.8158242702484131\n",
            "loss: 0.7126677632331848\n",
            "loss: 0.60908442735672\n",
            "loss: 0.5034850239753723\n",
            "loss: 0.40397095680236816\n",
            "loss: 0.30232107639312744\n",
            "loss: 0.20084305107593536\n",
            "loss: 0.10005880892276764\n",
            "loss: 0.0014273073757067323\n",
            "loss: 0.10039763152599335\n",
            "loss: 0.20117312669754028\n",
            "loss: 0.30179286003112793\n",
            "loss: 0.4037764370441437\n",
            "loss: 0.506388783454895\n",
            "loss: 0.6088544726371765\n",
            "loss: 0.7123255729675293\n",
            "loss: 0.8160541653633118\n",
            "loss: 0.9200828075408936\n",
            "loss: 1.0250868797302246\n"
          ],
          "name": "stdout"
        }
      ]
    },
    {
      "metadata": {
        "id": "DC2EOMjuqRTl",
        "colab_type": "code",
        "outputId": "45bd8792-92cb-4c7b-e4d0-f2ba1e33c819",
        "colab": {
          "base_uri": "https://localhost:8080/",
          "height": 269
        }
      },
      "cell_type": "code",
      "source": [
        "plt.plot([j/10 for j in range(-10,11)],loss_WD, 'ro')\n",
        "plt.axis([-1.1, 1.1, -.1, 1])\n",
        "plt.show()"
      ],
      "execution_count": 0,
      "outputs": [
        {
          "output_type": "display_data",
          "data": {
            "image/png": "[encoded data removed]",
            "text/plain": [
              "<Figure size 432x288 with 1 Axes>"
            ]
          },
          "metadata": {
            "tags": []
          }
        }
      ]
    },
    {
      "metadata": {
        "id": "HmPQOSkp13KU",
        "colab_type": "text"
      },
      "cell_type": "markdown",
      "source": [
        "## **part 1-4**"
      ]
    },
    {
      "metadata": {
        "id": "f0BzOe8311wI",
        "colab_type": "code",
        "outputId": "32ddfe30-7a7a-46fc-dd25-fdc9d8816ab5",
        "colab": {
          "base_uri": "https://localhost:8080/",
          "height": 587
        }
      },
      "cell_type": "code",
      "source": [
        "from __future__ import print_function\n",
        "import numpy as np\n",
        "import torch \n",
        "import matplotlib.pyplot as plt\n",
        "\n",
        "# plot p0 and p1\n",
        "plt.figure()\n",
        "\n",
        "\n",
        "# empirical\n",
        "xx = torch.randn(10000)\n",
        "f = lambda x: torch.tanh(x*2+1) + x*0.75\n",
        "d = lambda x: (1-torch.tanh(x*2+1)**2)*2+0.75\n",
        "plt.hist(f(xx), 100, alpha=0.5, density=1)\n",
        "plt.hist(xx, 100, alpha=0.5, density=1)\n",
        "plt.xlim(-5,5)\n",
        "# exact\n",
        "xx = np.linspace(-5,5,1000)\n",
        "N = lambda x: np.exp(-x**2/2.)/((2*np.pi)**0.5)\n",
        "plt.plot(f(torch.from_numpy(xx)).numpy(), d(torch.from_numpy(xx)).numpy()**(-1)*N(xx))\n",
        "plt.plot(xx, N(xx))\n",
        "\n",
        "\n",
        "############### import the sampler ``samplers.distribution4'' \n",
        "############### train a discriminator on distribution4 and standard gaussian\n",
        "############### estimate the density of distribution4\n",
        "def JSD(Dx, Dy):\n",
        "    \"\"\"\n",
        "    input:Dx,Dy\n",
        "    output:Jensen-Shannon Divergence between 2 distribution Dx, Dy \n",
        "\n",
        "    \"\"\"\n",
        "    jsd = torch.mean(torch.log(Dx)) + torch.mean(torch.log(1-Dy))\n",
        "    return -jsd\n",
        "\n",
        "def init_weights(m):\n",
        "    if type(m) == nn.Linear:\n",
        "        torch.nn.init.kaiming_normal_(m.weight)\n",
        "        m.bias.data.fill_(0.01)\n",
        "\n",
        "class Net(nn.Module):\n",
        "    def __init__(self):\n",
        "        super(Net, self).__init__()\n",
        "        self.hidden_layer = nn.Linear(1, 32)\n",
        "        self.output_layer = nn.Linear(32, 1)\n",
        "        \n",
        "    def forward(self, x):\n",
        "        x = F.relu(self.hidden_layer(x))\n",
        "        x = F.sigmoid(self.output_layer(x))\n",
        "        return x\n",
        "\n",
        "net = Net()\n",
        "net.apply(init_weights)\n",
        "optimizer = optim.Adam(net.parameters(), lr=0.001)\n",
        "for i in range(5000):\n",
        "    x = torch.tensor(next(iter(distribution4(batch_size=512))), dtype=torch.float32)\n",
        "    y = torch.tensor(next(iter(distribution3(batch_size=512))), dtype=torch.float32)\n",
        "\n",
        "    Dx = net(x)\n",
        "    Dy = net(y)\n",
        "\n",
        "    loss = JSD(Dx, Dy)\n",
        "\n",
        "    loss.backward()\n",
        "    optimizer.step()\n",
        "    optimizer.zero_grad()\n",
        "loss_JSD.append(-loss.item())\n",
        "#print('loss:',-loss.item())\n",
        "#######--- INSERT YOUR CODE BELOW ---#######\n",
        "\"\"\"\n",
        "D_opt: output of discriminator\n",
        "input: torch.linspace (-5,5,512)\n",
        "outpt: torch.tensor (512,1)\n",
        "\n",
        "\"\"\"\n",
        "pp = torch.linspace(-5,5,512).view(512,1)\n",
        "xx = np.linspace(-5,5,512)\n",
        "D_opt = net(pp).detach().numpy()\n",
        "r = xx # evaluate xx using your discriminator; replace xx with the output\n",
        "plt.figure(figsize=(8,4))\n",
        "plt.subplot(1,2,1)\n",
        "plt.plot(r ,D_opt )\n",
        "plt.title(r'$D(x)$')\n",
        "\n",
        "\"\"\"\n",
        "estimate: f_0*D_opt/(1-D_opt)\n",
        "this is a formula in question 5 theory\n",
        "\n",
        "\"\"\"\n",
        "\n",
        "f_0 =  np.stack((N(xx),np.ones(len(N(xx)))),axis=1)\n",
        "estimate = f_0*D_opt/(1-D_opt)  # estimate the density of distribution4 (on xx) using the discriminator; \n",
        "                                                                          # replace \"np.ones_like(xx)*0.\" with your estimate\n",
        "plt.subplot(1,2,2)\n",
        "plt.plot(xx,estimate[:,0])\n",
        "plt.plot(f(torch.from_numpy(xx)).numpy(), d(torch.from_numpy(xx)).numpy()**(-1)*N(xx))\n",
        "plt.legend(['Estimated','True'])\n",
        "plt.title('Estimated vs True')\n",
        "\n",
        "\n",
        "\n"
      ],
      "execution_count": 38,
      "outputs": [
        {
          "output_type": "stream",
          "text": [
            "/usr/local/lib/python3.6/dist-packages/torch/nn/functional.py:1332: UserWarning: nn.functional.sigmoid is deprecated. Use torch.sigmoid instead.\n",
            "  warnings.warn(\"nn.functional.sigmoid is deprecated. Use torch.sigmoid instead.\")\n"
          ],
          "name": "stderr"
        },
        {
          "output_type": "execute_result",
          "data": {
            "text/plain": [
              "Text(0.5, 1.0, 'Estimated vs True')"
            ]
          },
          "metadata": {
            "tags": []
          },
          "execution_count": 38
        },
        {
          "output_type": "display_data",
          "data": {
            "image/png": "[encoded data removed]",
            "text/plain": [
              "<Figure size 432x288 with 1 Axes>"
            ]
          },
          "metadata": {
            "tags": []
          }
        },
        {
          "output_type": "display_data",
          "data": {
            "image/png": "[encoded data removed]",
            "text/plain": [
              "<Figure size 576x288 with 2 Axes>"
            ]
          },
          "metadata": {
            "tags": []
          }
        }
      ]
    }
  ]
}